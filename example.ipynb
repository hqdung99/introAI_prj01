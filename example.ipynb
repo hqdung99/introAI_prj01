{
 "cells": [
  {
   "cell_type": "code",
   "execution_count": null,
   "metadata": {
    "colab": {},
    "colab_type": "code",
    "id": "TaNyCKxe38XF"
   },
   "outputs": [],
   "source": [
    "%matplotlib notebook"
   ]
  },
  {
   "cell_type": "code",
   "execution_count": null,
   "metadata": {
    "colab": {},
    "colab_type": "code",
    "id": "QaK_uCtM38XN"
   },
   "outputs": [],
   "source": [
    "from path_finder import BFS\n",
    "from graph_generator import read_input_file\n",
    "from matplotlib import pyplot as plt\n",
    "import time\n",
    "from IPython.display import display"
   ]
  },
  {
   "cell_type": "code",
   "execution_count": null,
   "metadata": {
    "colab": {},
    "colab_type": "code",
    "id": "xdoG1JgI38XR"
   },
   "outputs": [],
   "source": [
    "\n",
    "input_path = 'sample_input.txt'\n",
    "matrix, start, goal = read_input_file(input_path, True)\n",
    "plt.imshow(matrix, cmap=\"tab20c\")\n"
   ]
  },
  {
   "cell_type": "code",
   "execution_count": null,
   "metadata": {
    "colab": {},
    "colab_type": "code",
    "id": "xS4kV3Hv38XV"
   },
   "outputs": [],
   "source": [
    "path_finder = BFS(start, goal)\n",
    "path = path_finder.search(matrix)\n",
    "fig = plt.figure()\n",
    "fig.canvas.draw()\n",
    "PATH_VALUE = 9\n",
    "if path:\n",
    "    print(\"Found path\")\n",
    "    for pos in path:\n",
    "        matrix[pos] = PATH_VALUE\n",
    "        plt.imshow(matrix, cmap=\"tab20c\")\n",
    "        fig.canvas.draw()\n",
    "        plt.pause(0.5)\n",
    "        plt.show()\n",
    "else:\n",
    "    print(\"Not found path\")\n"
   ]
  }
 ],
 "metadata": {
  "colab": {
   "name": "example.ipynb",
   "provenance": []
  },
  "kernelspec": {
   "display_name": "Python 3",
   "language": "python",
   "name": "python3"
  },
  "language_info": {
   "codemirror_mode": {
    "name": "ipython",
    "version": 3
   },
   "file_extension": ".py",
   "mimetype": "text/x-python",
   "name": "python",
   "nbconvert_exporter": "python",
   "pygments_lexer": "ipython3",
   "version": "3.7.4"
  }
 },
 "nbformat": 4,
 "nbformat_minor": 2
}
