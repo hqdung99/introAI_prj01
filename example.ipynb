{
 "cells": [
  {
   "cell_type": "code",
   "execution_count": 1,
   "metadata": {},
   "outputs": [
    {
     "name": "stdout",
     "output_type": "stream",
     "text": [
      "Read from file....\n",
      "Width=22, Height=18\n",
      "Start: (2, 2)\n",
      "Goal: (19, 16)\n",
      "Found 3 Polygons\n",
      "Done load input\n"
     ]
    },
    {
     "data": {
      "text/plain": [
       "<Figure size 640x480 with 1 Axes>"
      ]
     },
     "metadata": {},
     "output_type": "display_data"
    }
   ],
   "source": [
    "from graph_generator import read_input_file\n",
    "matrix, start, goal = read_input_file('sample_input.txt', True)"
   ]
  },
  {
   "cell_type": "code",
   "execution_count": 2,
   "metadata": {},
   "outputs": [
    {
     "data": {
      "text/plain": [
       "<matplotlib.image.AxesImage at 0x7f6a6762e668>"
      ]
     },
     "execution_count": 2,
     "metadata": {},
     "output_type": "execute_result"
    },
    {
     "data": {
      "image/png": "[encoded data removed]",
      "text/plain": [
       "<Figure size 432x288 with 1 Axes>"
      ]
     },
     "metadata": {
      "needs_background": "light"
     },
     "output_type": "display_data"
    }
   ],
   "source": [
    "from matplotlib import pyplot as plt\n",
    "matrix[start] = 5\n",
    "matrix[goal] = 10\n",
    "plt.imshow(matrix, cmap='tab20c')"
   ]
  },
  {
   "cell_type": "code",
   "execution_count": 3,
   "metadata": {},
   "outputs": [
    {
     "name": "stdout",
     "output_type": "stream",
     "text": [
      "[[ 0  0  0  0  0  0  0  0  0  0  0  0  0  0  0  0  0  0]\n",
      " [ 0  0  0  0  0  0  0  0  0  0  0  3  3  3  3  0  0  0]\n",
      " [ 0  0  5  0  0  0  0  0  0  0  0  3  0  0  3  0  0  0]\n",
      " [ 0  0  0  0  0  0  0  0  0  0  0  3  0  0  3  0  0  0]\n",
      " [ 0  0  0  0  1  1  1  0  0  0  0  3  0  0  3  0  0  0]\n",
      " [ 0  0  0  0  1  0  0  1  1  1  0  3  0  0  3  0  0  0]\n",
      " [ 0  0  0  0  1  0  0  0  0  1  0  3  3  3  3  0  0  0]\n",
      " [ 0  0  0  0  0  1  0  0  0  1  0  0  0  0  0  0  0  0]\n",
      " [ 0  0  0  0  0  1  0  0  1  0  0  0  0  0  0  0  0  0]\n",
      " [ 0  0  0  0  0  1  1  0  1  0  0  0  0  0  0  0  0  0]\n",
      " [ 0  0  0  0  0  0  0  1  1  0  0  0  0  0  0  0  0  0]\n",
      " [ 0  0  0  0  0  0  0  0  0  0  0  0  0  0  0  0  0  0]\n",
      " [ 0  0  0  0  0  0  0  0  2  2  2  2  2  2  0  0  0  0]\n",
      " [ 0  0  0  0  0  0  0  0  2  0  0  0  2  0  0  0  0  0]\n",
      " [ 0  0  0  0  0  0  0  0  2  0  0  2  0  0  0  0  0  0]\n",
      " [ 0  0  0  0  0  0  0  0  2  0  2  0  0  0  0  0  0  0]\n",
      " [ 0  0  0  0  0  0  0  0  2  2  0  0  0  0  0  0  0  0]\n",
      " [ 0  0  0  0  0  0  0  0  2  0  0  0  0  0  0  0  0  0]\n",
      " [ 0  0  0  0  0  0  0  0  0  0  0  0  0  0  0  0  0  0]\n",
      " [ 0  0  0  0  0  0  0  0  0  0  0  0  0  0  0  0 10  0]\n",
      " [ 0  0  0  0  0  0  0  0  0  0  0  0  0  0  0  0  0  0]\n",
      " [ 0  0  0  0  0  0  0  0  0  0  0  0  0  0  0  0  0  0]]\n"
     ]
    }
   ],
   "source": [
    "print(matrix)"
   ]
  }
 ],
 "metadata": {
  "kernelspec": {
   "display_name": "Python 3",
   "language": "python",
   "name": "python3"
  },
  "language_info": {
   "codemirror_mode": {
    "name": "ipython",
    "version": 3
   },
   "file_extension": ".py",
   "mimetype": "text/x-python",
   "name": "python",
   "nbconvert_exporter": "python",
   "pygments_lexer": "ipython3",
   "version": "3.6.8"
  }
 },
 "nbformat": 4,
 "nbformat_minor": 2
}
