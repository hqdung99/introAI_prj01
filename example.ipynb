{
 "cells": [
  {
   "cell_type": "code",
   "execution_count": null,
   "metadata": {
    "colab": {},
    "colab_type": "code",
    "id": "TaNyCKxe38XF"
   },
   "outputs": [],
   "source": [
    "%matplotlib notebook"
   ]
  },
  {
   "cell_type": "code",
   "execution_count": null,
   "metadata": {
    "colab": {},
    "colab_type": "code",
    "id": "QaK_uCtM38XN"
   },
   "outputs": [],
   "source": [
    "from path_finder import BFS, DFS, GreedySearch\n",
    "from path_finder import AStarSearch\n",
    "from graph_generator import read_input_file\n",
    "from matplotlib import pyplot as plt\n",
    "import time\n",
    "from IPython.display import display\n",
    "import os\n",
    "import numpy as np\n",
    "from PIL import Image\n",
    "import csv\n"
   ]
  },
  {
   "cell_type": "code",
   "execution_count": null,
   "metadata": {},
   "outputs": [],
   "source": [
    "SEARCH_MAP = {\n",
    "    \"BFS\": BFS,\n",
    "    \"DFS\": DFS,\n",
    "    \"Greedy\": GreedySearch,\n",
    "    \"A*\": AStarSearch\n",
    "}\n",
    "\n"
   ]
  },
  {
   "cell_type": "code",
   "execution_count": null,
   "metadata": {},
   "outputs": [],
   "source": [
    "def color_map(N=256, normalized=False):\n",
    "    def bitget(byteval, idx):\n",
    "        return ((byteval & (1 << idx)) != 0)\n",
    "\n",
    "    dtype = 'float32' if normalized else 'uint8'\n",
    "    cmap = np.zeros((N, 3), dtype=dtype)\n",
    "    for i in range(N):\n",
    "        r = g = b = 0\n",
    "        c = i\n",
    "        for j in range(8):\n",
    "            r = r | (bitget(c, 0) << 7-j)\n",
    "            g = g | (bitget(c, 1) << 7-j)\n",
    "            b = b | (bitget(c, 2) << 7-j)\n",
    "            c = c >> 3\n",
    "\n",
    "        cmap[i] = np.array([r, g, b])\n",
    "\n",
    "    cmap = cmap/255 if normalized else cmap\n",
    "    return cmap\n",
    "\n",
    "\n",
    "_cmap = color_map(256)\n"
   ]
  },
  {
   "cell_type": "markdown",
   "metadata": {},
   "source": [
    "# Animation Visualize"
   ]
  },
  {
   "cell_type": "markdown",
   "metadata": {},
   "source": [
    "If you need to watch a certain method step by step visualize how agent move, run the block below"
   ]
  },
  {
   "cell_type": "code",
   "execution_count": null,
   "metadata": {
    "colab": {},
    "colab_type": "code",
    "id": "xS4kV3Hv38XV"
   },
   "outputs": [],
   "source": [
    "# Params for you to change\n",
    "search_name = \"BFS\"\n",
    "input_path = '100x100__input.txt'\n",
    "\n",
    "\n",
    "matrix, start, goal = read_input_file(input_path, False)\n",
    "Method = SEARCH_MAP[search_name]\n",
    "path_finder = Method(start, goal)\n",
    "path = path_finder.search(matrix)\n",
    "\n",
    "fig = plt.figure()\n",
    "fig.canvas.draw()\n",
    "\n",
    "PATH_VALUE = 255\n",
    "ALREADY_SEARCH_VALUE = 254\n",
    "GOAL= 253\n",
    "\n",
    "if path:\n",
    "    print(\"Found path\")\n",
    "    matrix[path_finder.closed[:, :, 0] != -1] = ALREADY_SEARCH_VALUE\n",
    "    matrix[path_finder.goal[0], path_finder.goal[1]] = GOAL \n",
    "    for pos in path:\n",
    "        matrix[pos] = PATH_VALUE\n",
    "        plt.imshow(matrix, cmap=_cmap)\n",
    "        fig.canvas.draw()\n",
    "        plt.pause(0.5)\n",
    "        plt.show()\n",
    "else:\n",
    "    print(\"Not found path\")\n",
    "\n"
   ]
  },
  {
   "cell_type": "markdown",
   "metadata": {},
   "source": [
    "# Report "
   ]
  },
  {
   "cell_type": "code",
   "execution_count": null,
   "metadata": {},
   "outputs": [],
   "source": [
    "input_list = [\"sample_input.txt\", \"50x50__input.txt\", \"100x100__input.txt\"]\n",
    "\n",
    "PATH_VALUE = 255\n",
    "ALREADY_SEARCH_VALUE = 254\n",
    "GOAL= 253\n",
    "\n",
    "report_folder = \"reports/\"\n",
    "report_path = report_folder + \"report.csv\"\n",
    "os.makedirs(report_folder, exist_ok=True)\n",
    "\n",
    "report_data = []\n",
    "\n",
    "\n",
    "for input_path in input_list:\n",
    "    print(input_path)\n",
    "    folder = report_folder + input_path.split(\".\")[0]\n",
    "    os.makedirs(folder, exist_ok=True)\n",
    "    for search_name in SEARCH_MAP:\n",
    "        matrix, start, goal = read_input_file(input_path, False)\n",
    "        Method = SEARCH_MAP[search_name]\n",
    "        path_finder = Method(start, goal)\n",
    "                \n",
    "        start_time = time.clock()\n",
    "        path = path_finder.search(matrix)\n",
    "        end_time = time.clock()\n",
    "        diff = end_time - start_time \n",
    "        if path:\n",
    "            print(f\"{search_name} found path in {diff} - Length path: {len(path)}\")\n",
    "            matrix[path_finder.closed[:, :, 0] != -1] = ALREADY_SEARCH_VALUE\n",
    "            matrix[path_finder.goal[0], path_finder.goal[1]] = GOAL \n",
    "            for pos in path:\n",
    "                matrix[pos] = PATH_VALUE\n",
    "            \n",
    "            # Store output\n",
    "            img_pil = Image.fromarray(np.array(matrix, dtype=np.uint8), mode=\"L\")\n",
    "            img_pil.putpalette(_cmap)\n",
    "            output_path = folder + f\"/{search_name}_visualize.pdf\"\n",
    "#             plt.imshow(img_pil)\n",
    "#             plt.imsave(output_path, img_pil)\n",
    "            img_pil.save(output_path)\n",
    "            \n",
    "            \n",
    "        else:\n",
    "            print(f\"{search_name} found there is not path in {diff}\")\n",
    "            \n",
    "        report_data.append(\n",
    "        {\n",
    "            \"filename\": input_path,\n",
    "            \"search_name\": search_name, \n",
    "            \"run_time\": diff,\n",
    "            \"length_path\": len(path),\n",
    "            \"found?\": bool(path),\n",
    "            \n",
    "        })\n",
    "        \n"
   ]
  },
  {
   "cell_type": "code",
   "execution_count": null,
   "metadata": {},
   "outputs": [],
   "source": [
    "def to_csv(report_data, report_path):\n",
    "    keys = report_data[0].keys()\n",
    "    with open(report_path, 'w') as output_file:\n",
    "        dict_writer = csv.DictWriter(output_file, keys)\n",
    "        dict_writer.writeheader()\n",
    "        dict_writer.writerows(report_data)\n",
    "\n",
    "to_csv(report_data, report_path)"
   ]
  }
 ],
 "metadata": {
  "colab": {
   "name": "example.ipynb",
   "provenance": []
  },
  "kernelspec": {
   "display_name": "Python 3",
   "language": "python",
   "name": "python3"
  },
  "language_info": {
   "codemirror_mode": {
    "name": "ipython",
    "version": 3
   },
   "file_extension": ".py",
   "mimetype": "text/x-python",
   "name": "python",
   "nbconvert_exporter": "python",
   "pygments_lexer": "ipython3",
   "version": "3.6.8"
  }
 },
 "nbformat": 4,
 "nbformat_minor": 2
}
