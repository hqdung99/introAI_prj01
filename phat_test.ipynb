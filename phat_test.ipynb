{
 "cells": [
  {
   "cell_type": "markdown",
   "metadata": {},
   "source": [
    "**import**"
   ]
  },
  {
   "cell_type": "code",
   "execution_count": null,
   "metadata": {},
   "outputs": [],
   "source": [
    "from path_finder import GreedySearch\n",
    "from path_finder import BFS\n",
    "from path_finder import DFS\n",
    "from path_finder import AStarSearch\n",
    "from graph_generator import read_input_file\n",
    "from matplotlib import pyplot as plt\n",
    "import time\n",
    "from IPython.display import display\n",
    "\n",
    "%matplotlib notebook"
   ]
  },
  {
   "cell_type": "markdown",
   "metadata": {},
   "source": [
    "**test function**"
   ]
  },
  {
   "cell_type": "code",
   "execution_count": null,
   "metadata": {},
   "outputs": [],
   "source": [
    "import timeit\n",
    "def test(algorithm, start, goal, matrix, is_print=True):\n",
    "    path_finder = algorithm(start, goal)\n",
    "    PATH_VALUE = 9\n",
    "\n",
    "    start_tick = timeit.default_timer()\n",
    "    path = path_finder.search(matrix)\n",
    "    end_tick = timeit.default_timer()\n",
    "    matrix[start] = PATH_VALUE + 2\n",
    "    matrix[goal] = PATH_VALUE + 2\n",
    "    fig = plt.figure()\n",
    "    fig.canvas.draw()\n",
    "    \n",
    "    if path:\n",
    "        print(\"Found path\")\n",
    "        for pos in path:\n",
    "            matrix[pos] = PATH_VALUE\n",
    "            fig.canvas.draw()\n",
    "            plt.imshow(matrix, cmap=\"tab20c\")\n",
    "            plt.pause(0.5)\n",
    "            plt.show()\n",
    "    else:\n",
    "        print(\"Not found path\")\n",
    "    \n",
    "    if is_print:\n",
    "        print(f'distance: {len(path)}, time: {end_tick - start_tick}')\n",
    "        \n",
    "        fig.canvas.draw()\n",
    "        plt.imshow(matrix, cmap=\"tab20c\")\n",
    "        plt.pause(0.5)\n",
    "        plt.show()"
   ]
  },
  {
   "cell_type": "markdown",
   "metadata": {},
   "source": [
    "**main**"
   ]
  },
  {
   "cell_type": "code",
   "execution_count": null,
   "metadata": {},
   "outputs": [],
   "source": [
    "# from path_finder import BFS\n",
    "# from graph_generator import read_input_file\n",
    "\n",
    "def read_input_and_test(algorithm):\n",
    "    input_path = 'sample_input.txt'\n",
    "    matrix, start, goal = read_input_file(input_path)\n",
    "    if algorithm != None:\n",
    "        test(algorithm, start, goal, matrix)\n",
    "\n",
    "if __name__ == '__main__':\n",
    "#     input_path = 'sample_input.txt'\n",
    "#     matrix, start, goal = read_input_file(input_path)\n",
    "    print('BFS')\n",
    "    read_input_and_test(BFS)\n",
    "    print('DFS')\n",
    "    read_input_and_test(DFS)\n",
    "    print('A')\n",
    "    read_input_and_test(GreedySearch)\n",
    "    print('A*')\n",
    "    read_input_and_test(AStarSearch)"
   ]
  },
  {
   "cell_type": "markdown",
   "metadata": {},
   "source": [
    "# level 3:"
   ]
  },
  {
   "cell_type": "markdown",
   "metadata": {},
   "source": [
    "## Collecting all points before reaching the goal"
   ]
  },
  {
   "cell_type": "code",
   "execution_count": 5,
   "metadata": {},
   "outputs": [],
   "source": [
    "def pretty(d, indent=0):\n",
    "   for key, value in d.items():\n",
    "      print('\\t' * indent + str(key))\n",
    "      if isinstance(value, dict):\n",
    "         pretty(value, indent+1)\n",
    "      else:\n",
    "         print('\\t' * (indent+1) + str(value))"
   ]
  },
  {
   "cell_type": "code",
   "execution_count": 6,
   "metadata": {},
   "outputs": [],
   "source": [
    "from graph_generator import GraphGenerator\n",
    "\n",
    "def read_multi_point_input(fpath:str, verbose:bool=False, fill:bool=False):\n",
    "    \"\"\" Read input file with TA Format\n",
    "    Input:\n",
    "        fpath: Path to input txt file\n",
    "        verbose: Print to screen to debug\n",
    "        fill: Should we fill the polygon\n",
    "    Output:\n",
    "        graph: (Numpy array) Matrix to represent graph value\n",
    "        start: (Tuple of int) Start point\n",
    "        goal: (Tuple of int) Goal point\n",
    "    \"\"\"\n",
    "    f = open(fpath)\n",
    "    l = f.readline()\n",
    "    w, h = [int(x) for x in l.strip().split(',')]\n",
    "\n",
    "    if verbose:\n",
    "        print(\"Read from file....\")\n",
    "        print(f\"Width={w}, Height={h}\")\n",
    "\n",
    "    generator = GraphGenerator((h, w), fill=fill)\n",
    "    \n",
    "    l = f.readline()\n",
    "    \n",
    "    #xStart, yStart, xGoal, yGoal = [int(x) for x in l.strip().split(',')]\n",
    "    list_coor = l.strip().split(',')\n",
    "    list_x = list_coor[1::2]\n",
    "    list_y = list_coor[::2]\n",
    "    list_x = [int(x) for x in list_x]\n",
    "    list_y = [int(y) for y in list_y]\n",
    "\n",
    "    xStart, yStart, xGoal, yGoal = list_x[0], list_y[0], list_x[1], list_y[1]\n",
    "    list_point = [(list_x[i], list_y[i]) for i in range(2, len(list_x))]\n",
    "    \n",
    "    \n",
    "    if verbose:\n",
    "        print(f\"Start: ({xStart}, {yStart})\")\n",
    "        print(f\"Goal: ({xGoal}, {yGoal})\")\n",
    "\n",
    "    num_polygon = int(f.readline().strip())\n",
    "\n",
    "    if verbose:\n",
    "        print(f\"Found {num_polygon} Polygons\")\n",
    "    for pInd in range(num_polygon):\n",
    "        l = f.readline()\n",
    "        point_list = [int(x) for x in l.strip().split(',')]\n",
    "        polygon = list(zip(point_list[::2], point_list[1::2]))\n",
    "\n",
    "        generator.add_polygon(polygon)\n",
    "\n",
    "    f.close()\n",
    "\n",
    "    if verbose:\n",
    "        print(\"Done load input\")\n",
    "        generator.plot_graph()\n",
    "\n",
    "    return generator.generate_graph(), (xStart, yStart), (xGoal, yGoal), list_point\n"
   ]
  },
  {
   "cell_type": "markdown",
   "metadata": {},
   "source": [
    "## main - all points search"
   ]
  },
  {
   "cell_type": "code",
   "execution_count": 15,
   "metadata": {},
   "outputs": [],
   "source": [
    "file_path = \"multi_points.txt\"\n",
    "#file_path = \"sample_input.txt\"\n",
    "matrix, start, goal, list_point = read_multi_point_input(file_path)\n",
    "#matrix, start, goal = read_input_file(file_path)"
   ]
  },
  {
   "cell_type": "code",
   "execution_count": 8,
   "metadata": {},
   "outputs": [
    {
     "name": "stdout",
     "output_type": "stream",
     "text": [
      "[(5, 1), (2, 8), (9, 8), (19, 3), (2, 20)]\n",
      "(1, 1)\n",
      "(19, 20)\n"
     ]
    }
   ],
   "source": [
    "print(list_point)\n",
    "print(start)\n",
    "print(goal)"
   ]
  },
  {
   "cell_type": "markdown",
   "metadata": {},
   "source": [
    "**Use_heapq = True -- greedy**"
   ]
  },
  {
   "cell_type": "code",
   "execution_count": 11,
   "metadata": {},
   "outputs": [],
   "source": [
    "from path_finder import AllPointSearch\n",
    "all_point_finder = AllPointSearch(start, goal, list_point, use_heapq=True, algo_to_find_shortest_point=BFS)"
   ]
  },
  {
   "cell_type": "code",
   "execution_count": 12,
   "metadata": {},
   "outputs": [],
   "source": [
    "total_dist, final_path = all_point_finder.search_always_choose_nearest_point(matrix)"
   ]
  },
  {
   "cell_type": "markdown",
   "metadata": {},
   "source": [
    "**Use_heapq = False -- brute force**"
   ]
  },
  {
   "cell_type": "code",
   "execution_count": 16,
   "metadata": {},
   "outputs": [],
   "source": [
    "from path_finder import AllPointSearch\n",
    "all_point_finder = AllPointSearch(start, goal, list_point, use_heapq=False, algo_to_find_shortest_point=BFS)"
   ]
  },
  {
   "cell_type": "code",
   "execution_count": 17,
   "metadata": {},
   "outputs": [
    {
     "name": "stdout",
     "output_type": "stream",
     "text": [
      "(1, 1)\n",
      "(5, 1)\n",
      "(19, 3)\n",
      "(9, 8)\n",
      "(2, 8)\n",
      "(2, 20)\n"
     ]
    }
   ],
   "source": [
    "total_dist, final_path = all_point_finder.search_shortest_with_all_possible_way(matrix)"
   ]
  },
  {
   "cell_type": "code",
   "execution_count": null,
   "metadata": {},
   "outputs": [],
   "source": [
    "fig = plt.figure()\n",
    "fig.canvas.draw()\n",
    "PATH_VALUE = 9\n",
    "\n",
    "matrix[start] = 7\n",
    "matrix[goal] = 7\n",
    "for p in list_point:\n",
    "    matrix[p] = 8\n",
    "    \n",
    "if final_path:\n",
    "    print(\"Found path\")\n",
    "    for pos in final_path:\n",
    "        if matrix[pos] != PATH_VALUE:\n",
    "            matrix[pos] = PATH_VALUE\n",
    "        plt.imshow(matrix, cmap=\"tab20c\")\n",
    "        fig.canvas.draw()\n",
    "        plt.pause(0.5)\n",
    "        plt.show()\n",
    "else:\n",
    "    print(\"Not found path\")\n",
    "    "
   ]
  },
  {
   "cell_type": "markdown",
   "metadata": {},
   "source": [
    "**Permutation function**\n",
    "Time complex: O(n!)"
   ]
  },
  {
   "cell_type": "code",
   "execution_count": null,
   "metadata": {},
   "outputs": [],
   "source": [
    "res = []\n",
    "def permutation(raw_list, prefix_list):\n",
    "    if len(raw_list) == 0:\n",
    "        res.append(prefix_list)\n",
    "        return\n",
    "    for i in range(len(raw_list)):\n",
    "        post_list = raw_list[:i] + raw_list[i+1:]\n",
    "        permutation(post_list, prefix_list + [raw_list[i]])"
   ]
  },
  {
   "cell_type": "code",
   "execution_count": null,
   "metadata": {},
   "outputs": [],
   "source": [
    "pref_list = []\n",
    "A = ['a', 'b', 'c', 'd', 'e', 'f']\n",
    "permutation(A, pref_list)"
   ]
  }
 ],
 "metadata": {
  "kernelspec": {
   "display_name": "Python 3",
   "language": "python",
   "name": "python3"
  },
  "language_info": {
   "codemirror_mode": {
    "name": "ipython",
    "version": 3
   },
   "file_extension": ".py",
   "mimetype": "text/x-python",
   "name": "python",
   "nbconvert_exporter": "python",
   "pygments_lexer": "ipython3",
   "version": "3.7.4"
  }
 },
 "nbformat": 4,
 "nbformat_minor": 2
}